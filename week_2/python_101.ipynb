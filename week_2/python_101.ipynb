{
 "cells": [
  {
   "cell_type": "markdown",
   "metadata": {},
   "source": [
    "### Data Science Academy - Week 2: Python Basics\n",
    "===========================================\n",
    "\n",
    "This script covers the fundamentals of Python including:\n",
    "- Python basics and syntax\n",
    "- Variables and assignment\n",
    "- Basic data types (int, float, str, bool)\n",
    "- Lists and list operations\n",
    "- Dictionaries and dictionary operations\n",
    "\n",
    "Run this script to see examples and outputs for each concept.\n",
    "Includes exercises with solutions at the end of each section."
   ]
  },
  {
   "cell_type": "markdown",
   "metadata": {},
   "source": [
    "#### SECTION 1: INTRODUCTION TO PYTHON BASICS"
   ]
  },
  {
   "cell_type": "code",
   "execution_count": 2,
   "metadata": {},
   "outputs": [
    {
     "name": "stdout",
     "output_type": "stream",
     "text": [
      "Addition\n",
      "8\n",
      "\n",
      "Subtraction\n",
      "6\n",
      "\n",
      "Multiplication\n",
      "42\n",
      "\n",
      "Division\n",
      "4.0\n",
      "\n",
      "Power\n",
      "32\n"
     ]
    }
   ],
   "source": [
    "# Basic arithmetic operations\n",
    "print(\"Addition\")\n",
    "print(5 + 3)\n",
    "\n",
    "print(\"\\nSubtraction\")\n",
    "print(10 - 4)\n",
    "\n",
    "print(\"\\nMultiplication\")\n",
    "print(6 * 7)\n",
    "\n",
    "print(\"\\nDivision\")\n",
    "print(20 / 5)\n",
    "\n",
    "print(\"\\nPower\")\n",
    "print(2**5)"
   ]
  },
  {
   "cell_type": "code",
   "execution_count": 3,
   "metadata": {},
   "outputs": [
    {
     "name": "stdout",
     "output_type": "stream",
     "text": [
      "22\n"
     ]
    }
   ],
   "source": [
    "# Using brackets to change calculation order\n",
    "a = 2+5*(2*2)\n",
    "print(a)"
   ]
  },
  {
   "cell_type": "markdown",
   "metadata": {},
   "source": [
    "#### SECTION 2: VARIABLES AND ASSIGNMENT"
   ]
  },
  {
   "cell_type": "code",
   "execution_count": 4,
   "metadata": {},
   "outputs": [
    {
     "name": "stdout",
     "output_type": "stream",
     "text": [
      "10\n"
     ]
    }
   ],
   "source": [
    "x = 10\n",
    "print(x)"
   ]
  },
  {
   "cell_type": "code",
   "execution_count": 5,
   "metadata": {},
   "outputs": [
    {
     "name": "stdout",
     "output_type": "stream",
     "text": [
      "20\n"
     ]
    }
   ],
   "source": [
    "y = x + 10\n",
    "print(y)"
   ]
  },
  {
   "cell_type": "code",
   "execution_count": 6,
   "metadata": {},
   "outputs": [
    {
     "name": "stdout",
     "output_type": "stream",
     "text": [
      "400\n"
     ]
    }
   ],
   "source": [
    "z = y * y\n",
    "print(z)"
   ]
  },
  {
   "cell_type": "code",
   "execution_count": 7,
   "metadata": {},
   "outputs": [
    {
     "name": "stdout",
     "output_type": "stream",
     "text": [
      "5\n",
      "10\n",
      "15\n"
     ]
    }
   ],
   "source": [
    "# Multiple assignment\n",
    "a, b, c = 5, 10, 15  # Assign values to multiple variables at once\n",
    "print(a)\n",
    "print(b)\n",
    "print(c)"
   ]
  },
  {
   "cell_type": "code",
   "execution_count": 8,
   "metadata": {},
   "outputs": [
    {
     "name": "stdout",
     "output_type": "stream",
     "text": [
      "Values of a, b and c are: 5, 10, 15\n"
     ]
    }
   ],
   "source": [
    "# Using f-string for string formatting\n",
    "print(f'Values of a, b and c are: {a}, {b}, {c}')"
   ]
  },
  {
   "cell_type": "markdown",
   "metadata": {},
   "source": [
    "##### Exercise 1\n",
    "\n",
    "Calculate your bmi using the following formula:\n",
    "\n",
    "<img src=\"../images/image.png\" width=250>\n",
    "\n",
    "Steps: \n",
    "1. Create a `weight` variable and give it a value\n",
    "2. Create a `height` variable and give it a value\n",
    "3. Create a `bmi` variable using the `weight` & `height` variables.\n",
    "4. Print the `bmi` result\n"
   ]
  },
  {
   "cell_type": "markdown",
   "metadata": {},
   "source": [
    "#### SECTION 3: DATA TYPES\n",
    "\n",
    "The 4 main basic data types are:\n",
    "\n",
    "- `integer` - whole numbers (+/-) \n",
    "    - *Example:* 2, -13103, 9\n",
    "- `float` - decimal numbers (+/-) \n",
    "    - *Example:* 2.4232, -2242.323, 3.142\n",
    "- `string` - anything enclosed inside single, double or triple quotes \n",
    "    - *Example:* 'cat', \"bigger dogsss\", \"\"\"my age is 25\"\"\"\n",
    "- `boolean`- Has only 2 values (True or False)"
   ]
  },
  {
   "cell_type": "code",
   "execution_count": 9,
   "metadata": {},
   "outputs": [
    {
     "name": "stdout",
     "output_type": "stream",
     "text": [
      "<class 'int'>\n"
     ]
    }
   ],
   "source": [
    "integer_num = 42  \n",
    "print(type(integer_num))"
   ]
  },
  {
   "cell_type": "code",
   "execution_count": 10,
   "metadata": {},
   "outputs": [
    {
     "name": "stdout",
     "output_type": "stream",
     "text": [
      "<class 'float'>\n"
     ]
    }
   ],
   "source": [
    "float_num = 232.23231  \n",
    "print(type(float_num))"
   ]
  },
  {
   "cell_type": "code",
   "execution_count": 11,
   "metadata": {},
   "outputs": [
    {
     "name": "stdout",
     "output_type": "stream",
     "text": [
      "<class 'str'>\n"
     ]
    }
   ],
   "source": [
    "string_val = \"Hi my names Nizar and I've been to India 2 times\"  \n",
    "print(type(string_val))"
   ]
  },
  {
   "cell_type": "code",
   "execution_count": 12,
   "metadata": {},
   "outputs": [
    {
     "name": "stdout",
     "output_type": "stream",
     "text": [
      "<class 'bool'>\n"
     ]
    }
   ],
   "source": [
    "bool_val = True\n",
    "print(type(bool_val))"
   ]
  },
  {
   "cell_type": "markdown",
   "metadata": {},
   "source": [
    "#### SECTION 4: LISTS\n",
    "\n",
    "Lists are an object type that allow us to store values of **any** data type inside like an actual list. \n",
    "\n",
    "Example:\n",
    "\n",
    "`var = [1, 'Colombo', 424.2323, 'veryyy longgg stringgg']`\n",
    "\n",
    "\n",
    "This list has **4** elements and we can access them through indexing."
   ]
  },
  {
   "cell_type": "code",
   "execution_count": 13,
   "metadata": {},
   "outputs": [],
   "source": [
    "# Here is a list of my favourite movies\n",
    "fav_movies = ['Shutter Island', 'Get Out', 'Moana 2', 'Avengers: End Game']"
   ]
  },
  {
   "cell_type": "code",
   "execution_count": 14,
   "metadata": {},
   "outputs": [
    {
     "name": "stdout",
     "output_type": "stream",
     "text": [
      "Shutter Island\n",
      "Get Out\n",
      "Avengers: End Game\n"
     ]
    }
   ],
   "source": [
    "# We can access elements inside a list through indexing, remember indexes start from 0\n",
    "print(fav_movies[0])\n",
    "print(fav_movies[1])\n",
    "print(fav_movies[3])"
   ]
  },
  {
   "cell_type": "code",
   "execution_count": 15,
   "metadata": {},
   "outputs": [
    {
     "name": "stdout",
     "output_type": "stream",
     "text": [
      "['Shutter Island', 'Get Out']\n"
     ]
    }
   ],
   "source": [
    "# We can also use slicing for more advanced indexing list[start: stop: step]\n",
    "print(fav_movies[0:2]) # Get the first 2 movies"
   ]
  },
  {
   "cell_type": "code",
   "execution_count": 16,
   "metadata": {},
   "outputs": [
    {
     "name": "stdout",
     "output_type": "stream",
     "text": [
      "['Avengers: End Game']\n"
     ]
    }
   ],
   "source": [
    "print(fav_movies[-1:]) # Get the last movie only"
   ]
  },
  {
   "cell_type": "code",
   "execution_count": 17,
   "metadata": {},
   "outputs": [],
   "source": [
    "# Since lists are mutable objects you can also add values to them\n",
    "fav_movies.append('Avatar the Last Airbender')"
   ]
  },
  {
   "cell_type": "code",
   "execution_count": 18,
   "metadata": {},
   "outputs": [
    {
     "name": "stdout",
     "output_type": "stream",
     "text": [
      "['Shutter Island', 'Get Out', 'Moana 2', 'Avengers: End Game', 'Avatar the Last Airbender']\n"
     ]
    }
   ],
   "source": [
    "print(fav_movies)"
   ]
  },
  {
   "cell_type": "code",
   "execution_count": 19,
   "metadata": {},
   "outputs": [
    {
     "name": "stdout",
     "output_type": "stream",
     "text": [
      "['Shutter Island', 'Get Out', 'Moana 2', 'Avengers: End Game', 'Avatar the Last Airbender', 'Big Bang Theory', 'Friends', 'The Office']\n",
      "8\n"
     ]
    }
   ],
   "source": [
    "# You can also add two lists together, using the + operator\n",
    "fav_sitcoms = ['Big Bang Theory', 'Friends', 'The Office']\n",
    "final_list = fav_movies + fav_sitcoms\n",
    "print(final_list)\n",
    "print(len(final_list)) # Use len() function to get length of the list or count of elements"
   ]
  },
  {
   "cell_type": "code",
   "execution_count": 20,
   "metadata": {},
   "outputs": [],
   "source": [
    "# Say I don't like Moana 2 anymore, I can remove it using the .remove() method\n",
    "final_list.remove('Moana 2')"
   ]
  },
  {
   "cell_type": "code",
   "execution_count": 21,
   "metadata": {},
   "outputs": [
    {
     "name": "stdout",
     "output_type": "stream",
     "text": [
      "7\n"
     ]
    }
   ],
   "source": [
    "print(len(final_list)) # You will notice we only have 8 items now"
   ]
  },
  {
   "cell_type": "markdown",
   "metadata": {},
   "source": [
    "#### SECTION 5: DICTIONARY\n",
    "\n",
    "`dict` are an object type as well that have a structure that looks like:"
   ]
  },
  {
   "cell_type": "code",
   "execution_count": 22,
   "metadata": {
    "slideshow": {
     "slide_type": "slide"
    }
   },
   "outputs": [
    {
     "name": "stdout",
     "output_type": "stream",
     "text": [
      "Example 1\n",
      "\n",
      "{\n",
      "  \"key\": \"value\",\n",
      "  \"key2\": \"another_value\"\n",
      "}\n",
      "\n",
      "\n",
      "Example 2\n",
      "\n",
      "{\n",
      "  \"name\": \"Chandeera Silva\",\n",
      "  \"age\": 22,\n",
      "  \"job\": \"Data Scientist\",\n",
      "  \"monthly_salary\": 200000,\n",
      "  \"favourite_movies\": [\n",
      "    \"Shutter Island\",\n",
      "    \"Get Out\",\n",
      "    \"Moana 2\",\n",
      "    \"Avengers: End Game\",\n",
      "    \"Avatar the Last Airbender\"\n",
      "  ]\n",
      "}\n"
     ]
    }
   ],
   "source": [
    "# Ignore the json part. This is just for showcase\n",
    "import json\n",
    "\n",
    "# Example 1\n",
    "print('Example 1\\n')\n",
    "print(json.dumps({\n",
    "    \"key\": \"value\",\n",
    "    \"key2\": \"another_value\"\n",
    "}, indent=2))\n",
    "\n",
    "# Example 2\n",
    "print('\\n\\nExample 2\\n')\n",
    "print(json.dumps({\n",
    "    \"name\": \"Chandeera Silva\",\n",
    "    \"age\": 22,\n",
    "    \"job\": \"Data Scientist\",\n",
    "    \"monthly_salary\": 200000,\n",
    "    \"favourite_movies\": fav_movies\n",
    "}, indent=2))"
   ]
  },
  {
   "cell_type": "code",
   "execution_count": 23,
   "metadata": {},
   "outputs": [],
   "source": [
    "# To create a dict you just need to use the curly braces '{}'.\n",
    "# Then add values inside it as key:value pairs\n",
    "\n",
    "rand_dict = {\n",
    "    \"name\": \"Tharushi\",\n",
    "    \"age\": 28 \n",
    "}"
   ]
  },
  {
   "cell_type": "code",
   "execution_count": 24,
   "metadata": {},
   "outputs": [
    {
     "name": "stdout",
     "output_type": "stream",
     "text": [
      "<class 'dict'>\n",
      "{'name': 'Tharushi', 'age': 28}\n"
     ]
    }
   ],
   "source": [
    "print(type(rand_dict))\n",
    "\n",
    "print(rand_dict)"
   ]
  },
  {
   "cell_type": "code",
   "execution_count": 25,
   "metadata": {},
   "outputs": [
    {
     "name": "stdout",
     "output_type": "stream",
     "text": [
      "{'name': 'Tharushi', 'age': 28, 'job': 'UI/UX Designer'}\n"
     ]
    }
   ],
   "source": [
    "# To add a key:value pair into a dictionary use the .update method\n",
    "\n",
    "rand_dict.update(\n",
    "    {\n",
    "        \"job\": \"UI/UX Designer\"\n",
    "    }\n",
    ")\n",
    "\n",
    "print(rand_dict)"
   ]
  },
  {
   "cell_type": "code",
   "execution_count": 26,
   "metadata": {},
   "outputs": [
    {
     "name": "stdout",
     "output_type": "stream",
     "text": [
      "{'name': 'Tharushi', 'job': 'UI/UX Designer'}\n"
     ]
    }
   ],
   "source": [
    "# To remove a key:value pair use the .pop() method\n",
    "rand_dict.pop('age')\n",
    "\n",
    "print(rand_dict)"
   ]
  },
  {
   "cell_type": "code",
   "execution_count": 27,
   "metadata": {},
   "outputs": [
    {
     "name": "stdout",
     "output_type": "stream",
     "text": [
      "Tharushi\n"
     ]
    }
   ],
   "source": [
    "# To get a value of a key from a dictionary use the .get() method\n",
    "name = rand_dict.get('name')\n",
    "\n",
    "print(name)"
   ]
  },
  {
   "cell_type": "markdown",
   "metadata": {},
   "source": [
    "#### END"
   ]
  }
 ],
 "metadata": {
  "kernelspec": {
   "display_name": ".venv",
   "language": "python",
   "name": "python3"
  },
  "language_info": {
   "codemirror_mode": {
    "name": "ipython",
    "version": 3
   },
   "file_extension": ".py",
   "mimetype": "text/x-python",
   "name": "python",
   "nbconvert_exporter": "python",
   "pygments_lexer": "ipython3",
   "version": "3.12.8"
  }
 },
 "nbformat": 4,
 "nbformat_minor": 2
}
